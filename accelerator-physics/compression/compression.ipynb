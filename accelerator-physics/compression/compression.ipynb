{
 "cells": [
  {
   "cell_type": "markdown",
   "metadata": {},
   "source": [
    "The compression is given by \n",
    "$$C = \\frac{1}{|1-h R_{56}|},$$\n",
    "where $h=dp/dz$ is the energy chirp (head-to-tail energy correlation; if the tail has higher energy than the head, then the chirp is negative, $h<0$), and $R_{56}$ is the longitudinal dispersion (momentum compaction).\n",
    "The convention is that for a usual 4-dipole chicane $R_{56}<0$. For compression, negative chirps are needed (but not too strong to avoid overcompression, as will be seen below). \n",
    "\n",
    "Compression will occur if $$\\left|1-h R_{56}\\right|<1$$ which is equivalent to  $$-1 < 1-h R_{56} <1$$\n",
    "Therefore $$-1<1-h R_{56}, 1-h R_{56}<1$$ or $$h R_{56} < 2, h R_{56}>0$$ or ultimately $$0<hR_{56}<2.$$\n",
    "Conversely, if $hR_{56}<0$ or $h R_{56} > 2$, decompression will occur.\n",
    "This is clearly demonstrated in the plot below"
   ]
  },
  {
   "cell_type": "code",
   "execution_count": 2,
   "metadata": {},
   "outputs": [],
   "source": [
    "import numpy as np\n",
    "from matplotlib import pyplot as plt\n",
    "plt.rc('text', usetex=True)"
   ]
  },
  {
   "cell_type": "code",
   "execution_count": 35,
   "metadata": {},
   "outputs": [
    {
     "data": {
      "image/png": "[encoded data removed]",
      "text/plain": [
       "<Figure size 432x288 with 1 Axes>"
      ]
     },
     "metadata": {},
     "output_type": "display_data"
    }
   ],
   "source": [
    "z=np.linspace(-0.5,2.5,1000)\n",
    "C=1/np.abs(1-z)\n",
    "plt.plot(z,C)\n",
    "plt.gca().set_yscale('log')\n",
    "plt.xlabel('$h R_{56}$')\n",
    "plt.ylabel('Compression $C$')\n",
    "plt.annotate('de-compression', xy=(-0.65,110))\n",
    "plt.annotate('compression', xy=(0.1,110))\n",
    "plt.annotate('de-compression', xy=(2.02,110))\n",
    "plt.plot([-0.5,2.5], [1,1],'--')\n",
    "plt.plot([0,0], [0.5,5e2],'--',color='green')\n",
    "plt.plot([2,2], [0.5,5e2],'--',color='green');"
   ]
  },
  {
   "cell_type": "markdown",
   "metadata": {},
   "source": [
    "As mentioned above already, for a typical 4-dipole chicane $R_{56}<0$. In this case:\n",
    "\n",
    "$hR_{56}<0$ is equivalent to $h>0$\n",
    "\n",
    "$hR_{56}>2$ is equivalent to $h<2R_{56}^{-1}$\n",
    "\n",
    "$0<hR_{56}<2$ is equivalent to $0>h>2R_{56}^{-1}$ or $2R_{56}^{-1}<h<0$\n",
    "\n",
    "Therefore, for a 4-dipole compressor with $R_{56}<0$:\n",
    "\n",
    "$h>0$ (positive chirp) leads to decompression\n",
    "\n",
    "$h<2R_{56}^{-1}$ (large negative chirp) leads to decompression - this is the case of the overcompression is so strong that ultimately it is de-compressing the beam\n",
    "\n",
    "$2R_{56}^{-1}<h<0$ (mild negative chirp) leads to compression. However, in this case both normal compression and overcompression is possible."
   ]
  },
  {
   "cell_type": "code",
   "execution_count": null,
   "metadata": {},
   "outputs": [],
   "source": [
    "R56=np.linspace(-1,1,1000)\n",
    "h=np.linspace(-100,100,1000)\n"
   ]
  }
 ],
 "metadata": {
  "kernelspec": {
   "display_name": "Python 3",
   "language": "python",
   "name": "python3"
  },
  "language_info": {
   "codemirror_mode": {
    "name": "ipython",
    "version": 3
   },
   "file_extension": ".py",
   "mimetype": "text/x-python",
   "name": "python",
   "nbconvert_exporter": "python",
   "pygments_lexer": "ipython3",
   "version": "3.6.4"
  }
 },
 "nbformat": 4,
 "nbformat_minor": 2
}

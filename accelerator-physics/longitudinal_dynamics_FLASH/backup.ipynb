{
 "cells": [
  {
   "cell_type": "markdown",
   "metadata": {},
   "source": [
    "For compression, one is interested in negative chirps or $p'(0)<0$. For minimum-energy spread setting, one removes the chirp $p'(0)=0$.\n",
    "\n",
    "Obviously $h(z)$ depends on $z$ in general. One is typically interested in *linear* compression or *linear* chirp when $h(z)=const$. This can be achieved by eliminating higher derivatives of the momentum dependence. In particular, the \n",
    "\n",
    "We have  For the chirp to be closest to linear, we request\n",
    "$$\n",
    "p''(0)=0, p'''(0)=0\n",
    "$$\n",
    "This means, in some region around $z=0$ the momentum dependence will be linear.\n",
    "The third relation might be\n",
    "$$\n",
    "p'(0)=0\n",
    "$$\n",
    "for a minimum energy spread setting, or\n",
    "$$\n",
    "p'(0)/p(0) = h,\n",
    "$$\n",
    "where $h$ is some desired chirp (for compression we would request $h<0$).\n",
    "`"
   ]
  },
  {
   "cell_type": "markdown",
   "metadata": {},
   "source": [
    "We can calculate the resulting energy chirp at $z=0$:\n",
    "$$ \n",
    "p'(0)= r\\sin{(\\phi_{\\rm ACC1})}+3\\sin{(\\phi_{\\rm ACC39})}= \\\\\n",
    "-9 \\frac{\\cos{(\\phi_{\\rm ACC39})}}{\\cos{(\\phi_{\\rm ACC1})}}\\sin{(\\phi_{\\rm ACC1})}+3\\sin{(\\phi_{\\rm ACC39})}=\\\\\n",
    "-9\\cos{(\\phi_{\\rm ACC39})}\\tan{\\phi_{\\rm ACC1}}+3\\sin{(\\phi_{\\rm ACC39})}\n",
    "$$"
   ]
  },
  {
   "cell_type": "markdown",
   "metadata": {},
   "source": [
    "## Phase-space density transformations (UNFINISHED) ##\n",
    "The beam undergoes some motion, that is coordinates of every particle can undergo some transformation:\n",
    "$$\n",
    "z_i \\to z_i'\n",
    "$$\n",
    "$$\n",
    "p_i \\to p_i'\n",
    "$$\n",
    "This will change the phase-space density: the beam will reside in a different region on the plane $(z,p)$.\n",
    "We will restrict ourselves to linear transformations, that is\n",
    "$$\n",
    "z_i' = A z_i + B p_i\n",
    "$$\n",
    "$$\n",
    "p_i' = C z_i + D p_i\n",
    "$$\n",
    "For this case, the new density fullfills (due to particle number conservation):\n",
    "$$\n",
    "f(z,p) dz dp = f'(z',p') dz' dp'\n",
    "$$\n",
    "(think of a region $dz\\times dp$ around a point $(z,p)$ which transforms into a new region $dz' \\times dp'$ around $(z',p')$; all particles in the 1st region and up in the 2nd region; in addition, no other particles end up in region 2 - due to the special case of the transformation considered).\n",
    "\n",
    "## Acceleration in an RF-module ##\n",
    "In a module, every particle of the gains some energy, while it's longitudinal position (with respect to the center of the bunch) doesn't change.\n",
    "Therefore, the coordinate transformation:\n",
    "$$\n",
    "z_i \\to z_i\n",
    "$$\n",
    "$$\n",
    "p_i \\to p_i + \\Delta p_i\n",
    "$$\n",
    "The momentum gain $\\Delta p_i$ depends on the longitudinal coordinate due to the following reason.\n",
    "The accelerating field is a sinusoidal wave, travelling at the speed of light $c$. We assume that the electron beam is ultrarelativistic, therefore it also moves at $c$. This means that the field experienced by a given electron in the bunch doesn't change with time! However, the electron bunch has a specific length. Therefore, depending on the position within the bunch, the electric field, and therefore the gain will be different:\n",
    "$$\n",
    "\\Delta p_i = \\Delta p_i(z_i)\n",
    "$$\n",
    " \n",
    "By **phase** $\\phi$ of the module we will denote the phase of the wave seen by the particle at $z=0$, that is by electron sitting in the center of the bunch. Convention at FLASH is that $\\phi=0$ means maximum acceleration field, therefore the *crest* of the wave. Therefore we say it is *on-crest*. By **amplitude** of the given RF-module we understand the energy gain of the *on-crest particle*.\n",
    "Therefore\n",
    "$$\n",
    "\\Delta p_i(0) = V\n",
    "$$\n",
    "For arbitrary particle within the bunch:\n",
    "$$\n",
    "\\Delta p_i(z_i) = V \\cos{(k z_i + \\phi)},\n",
    "$$\n",
    "where $k=2\\pi/\\lambda=2\\pi\\nu/c$ is the wavenumber of the wave, related to its wavelength $\\lambda$ or frequency $\\nu$. For FLASH modules $\\nu=1.3$GHz except of ACC39 which has $\\nu=3.9 GHz$.\n",
    "\n",
    "In summary, the RF module modifies the particle coordinates in the following way:\n",
    "$$\n",
    "z_i \\to z_i\n",
    "$$\n",
    "$$\n",
    "p_i \\to p_i + V \\cos{(k z_i + \\phi)}\n",
    "$$\n",
    "\n",
    "## Compression ##\n",
    "In a compressor, the opposite happens: the particle energy doesn't change (we neglect any CSR effects here), while the longitudinal position does:\n",
    "$$\n",
    "z_i \\to z_i - \\delta_i R_{56}\n",
    "$$\n",
    "$$\n",
    "p_i \\to p_i\n",
    "$$\n",
    "Here $R_{56}$ is the *longitudinal dispersion* of the compressor, and $\\delta_i$ is the relative momentum deviation of the particle (see above). Note: the first equation neglects all higher order terms (in $\\delta$).\n",
    "\n",
    "## FLASH Linac layout ##\n",
    "We first consider the linac part of FLASH, consisting of:\n",
    "* **GUN** - a normal-conducting 1.5-cell RF-cavity, which in combination with a cathode and a laser generates ~5 MeV, ~5 ps bunches. We don't consider processes in the gun - i.e. we make some assumptions about the beam exiting the gun. \n",
    "* **ACC1** - a superconducting RF-module giving the boost of ~160 MeV. By operating it off-crest, the chirp necessary for subsequent compression is applied (more on that later)\n",
    "* **ACC39** - a 3rd harmonic RF-module (that is operates at frequency exactly three times higher than the other modules). In combination with ACC1 it allows to imprint the linear chirp rather than the cosine-shape (more on that later). Typically operated at phases close to $180^\\circ$, that is it's decelerating (typically by around 20 MeV).\n",
    "* **BC2** - a 4-magnet C-chicane compressor with $R_{56}=-0.18$m. The negatively-chirped beams from ACC1+ACC39 are therefore compressed.\n",
    "* **ACC23** - two RF modules giving a total boost of around 300 MeV. By operating it off-crest, we can further manipulate the chirp.\n",
    "* **BC3** - a 6-magnet S-chicane compressor.\n",
    "* **ACC47** - another four RF-modules, accelerating the beam further.\n",
    "\n",
    "The index will denote the quantities **directly after** the component, e.g. $I_{ACC39}$ means the current after ACC39 and thus before BC2."
   ]
  },
  {
   "cell_type": "markdown",
   "metadata": {},
   "source": [
    "parameters defining the shape of $p(z)$ (namely ); this matches the number of free parameters we have (). Below we will ignore one of the parameters, that is, the total energy ($p(0)$ and thus consider three free parameters: the ratio , and both phases (the fourth parameter entering the equations ($V_{\\rm ACC1}$) defines the absolute energy of the beam and is typically desired to be some given value in a compressor (145 MeV for BC2 and 450 MeV in BC3). This gives another equation, allowing to determine $V_{\\rm ACC1}$)."
   ]
  },
  {
   "cell_type": "code",
   "execution_count": null,
   "metadata": {},
   "outputs": [],
   "source": []
  }
 ],
 "metadata": {
  "kernelspec": {
   "display_name": "Python 3",
   "language": "python",
   "name": "python3"
  },
  "language_info": {
   "codemirror_mode": {
    "name": "ipython",
    "version": 3
   },
   "file_extension": ".py",
   "mimetype": "text/x-python",
   "name": "python",
   "nbconvert_exporter": "python",
   "pygments_lexer": "ipython3",
   "version": "3.6.4"
  }
 },
 "nbformat": 4,
 "nbformat_minor": 2
}

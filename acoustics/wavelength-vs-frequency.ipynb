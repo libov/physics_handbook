{
 "cells": [
  {
   "cell_type": "code",
   "execution_count": 29,
   "metadata": {},
   "outputs": [],
   "source": [
    "c = 343\n",
    "def wavelength(frequency):\n",
    "    return (c/frequency)"
   ]
  },
  {
   "cell_type": "code",
   "execution_count": 30,
   "metadata": {},
   "outputs": [],
   "source": [
    "def optimal_distance_wall(frequency):\n",
    "    \"\"\" 1/4 of the wavelength - opimal distance of an absorber from the wall \"\"\"\n",
    "    return wavelength(frequency)/4"
   ]
  },
  {
   "cell_type": "code",
   "execution_count": 36,
   "metadata": {},
   "outputs": [
    {
     "name": "stdout",
     "output_type": "stream",
     "text": [
      "frequency=300 Hz, wavelength=1.1433333333333333 m, optimal distance from wall=0.28583333333333333 m\n",
      "frequency=200 Hz, wavelength=1.715 m, optimal distance from wall=0.42875 m\n",
      "frequency=100 Hz, wavelength=3.43 m, optimal distance from wall=0.8575 m\n",
      "frequency=50 Hz, wavelength=6.86 m, optimal distance from wall=1.715 m\n",
      "frequency=30 Hz, wavelength=11.433333333333334 m, optimal distance from wall=2.8583333333333334 m\n"
     ]
    }
   ],
   "source": [
    "freqs=[300,200,100,50,30]\n",
    "for freq in freqs:\n",
    "    w = wavelength(freq)\n",
    "    od = optimal_distance_wall(freq)\n",
    "    print('frequency={0} Hz, wavelength={1} m, optimal distance from wall={2} m'.format(freq, w, od))\n",
    "\n"
   ]
  }
 ],
 "metadata": {
  "kernelspec": {
   "display_name": "Python 3",
   "language": "python",
   "name": "python3"
  },
  "language_info": {
   "codemirror_mode": {
    "name": "ipython",
    "version": 3
   },
   "file_extension": ".py",
   "mimetype": "text/x-python",
   "name": "python",
   "nbconvert_exporter": "python",
   "pygments_lexer": "ipython3",
   "version": "3.6.4"
  }
 },
 "nbformat": 4,
 "nbformat_minor": 2
}

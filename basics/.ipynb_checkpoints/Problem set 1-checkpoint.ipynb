{
 "cells": [
  {
   "cell_type": "markdown",
   "metadata": {},
   "source": [
    "### Newton's Law,  Hook's law, oscillations\n",
    "1. A body is 1 m above the ground and released at some point in time. When will it reach the ground and at which velocity?\n",
    "2. A body of mass $m$ is connected by a string with a characteristic $k$ to a fixed point like shown in the Figure below. Find the oscillation frequency. What time does it take for the string to go from left-most point to the right-most point?\n",
    "\n",
    "![title](images/2.jpg)\n"
   ]
  },
  {
   "cell_type": "markdown",
   "metadata": {},
   "source": [
    "### Coulomb's Law\n",
    "\n",
    "3. An electron ($e^-$) and a positron ($e^+$) are in vacuum and separated by 0.1 m.\n",
    "\n",
    " a. What is the absolute value of the force acting on each charge? What about the direction of the force acting on $e^-$ and $e^+$? Make a drawing.\n",
    "\n",
    " b. The electron is kept fixed, but the positron is released at t=0. When will the $e^+$ hit the $e^-$? Which velocity will it have? (hint: neglect relativistic effects and then see if it's a good assumption)\n",
    "\n",
    " c. Same as above, but both the $e^+$ and $e^-$ are released."
   ]
  },
  {
   "cell_type": "code",
   "execution_count": null,
   "metadata": {},
   "outputs": [],
   "source": []
  }
 ],
 "metadata": {
  "kernelspec": {
   "display_name": "Python 3",
   "language": "python",
   "name": "python3"
  },
  "language_info": {
   "codemirror_mode": {
    "name": "ipython",
    "version": 3
   },
   "file_extension": ".py",
   "mimetype": "text/x-python",
   "name": "python",
   "nbconvert_exporter": "python",
   "pygments_lexer": "ipython3",
   "version": "3.6.4"
  }
 },
 "nbformat": 4,
 "nbformat_minor": 2
}
